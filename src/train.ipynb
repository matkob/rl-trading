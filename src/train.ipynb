{
 "cells": [
  {
   "cell_type": "code",
   "execution_count": null,
   "metadata": {},
   "outputs": [],
   "source": [
    "import tensortrade.env.default as default\n",
    "from tensortrade.oms.exchanges import Exchange\n",
    "from tensortrade.oms.services.execution.simulated import execute_order\n",
    "from tensortrade.oms.instruments import USDT, BTC\n",
    "from tensortrade.oms.wallets import Wallet, Portfolio\n",
    "from tensortrade.agents import DQNAgent\n",
    "from feed import Feed\n",
    "\n",
    "import pandas as pd\n",
    "import features as ft"
   ]
  },
  {
   "cell_type": "code",
   "execution_count": null,
   "metadata": {},
   "outputs": [],
   "source": [
    "def extract_features(quotes: pd.DataFrame) -> pd.DataFrame:\n",
    "    mid = ((quotes[\"asks[0].price\"] + quotes[\"bids[0].price\"]) / 2).astype(float)\n",
    "    features = [\n",
    "        ft.lr(mid),\n",
    "        ft.rsi(mid, period=20),\n",
    "        ft.macd(mid, fast=10, slow=50, signal=5),\n",
    "    ]\n",
    "    features = pd.concat(features, axis=1)\n",
    "    features.columns = [\"lr\", \"rsi\", \"macd\"]\n",
    "    return features"
   ]
  },
  {
   "cell_type": "code",
   "execution_count": null,
   "metadata": {},
   "outputs": [],
   "source": [
    "def transform_trades(trades: pd.DataFrame) -> pd.DataFrame:\n",
    "    trades[\"datetime\"] = pd.to_datetime(trades[\"timestamp\"], unit=\"us\")\n",
    "    return trades"
   ]
  },
  {
   "cell_type": "code",
   "execution_count": null,
   "metadata": {},
   "outputs": [],
   "source": [
    "feed = Feed.load(\"../data/\", lambda df: df, transform_trades, extract_features, nrows=10000)\n",
    "binance = Exchange(\"binance\", service=execute_order)(feed.get_mid_price().rename(\"USDT-BTC\"))\n",
    "portfolio = Portfolio(USDT, [\n",
    "    Wallet(binance, 10000 * USDT),\n",
    "    Wallet(binance, 10 * BTC)\n",
    "])\n",
    "env = default.create(\n",
    "    portfolio=portfolio,\n",
    "    action_scheme=\"managed-risk\",\n",
    "    reward_scheme=\"risk-adjusted\",\n",
    "    feed=feed.get_features(),\n",
    "    renderer_feed=feed.get_candles(),\n",
    "    renderer=default.renderers.PlotlyTradingChart(),\n",
    "    window_size=20\n",
    ")"
   ]
  },
  {
   "cell_type": "code",
   "execution_count": null,
   "metadata": {},
   "outputs": [],
   "source": [
    "agent = DQNAgent(env)\n",
    "agent.train(n_steps=10000, n_episodes=10, save_path=\"../agents/\")\n"
   ]
  }
 ],
 "metadata": {
  "interpreter": {
   "hash": "deccf3344f9d7a8191f14f896a7730ba9d149327f6c969380c962ddc194fa57c"
  },
  "kernelspec": {
   "display_name": "Python 3.9.0 64-bit ('rl-trading-gENiBtVZ': pipenv)",
   "language": "python",
   "name": "python3"
  },
  "language_info": {
   "codemirror_mode": {
    "name": "ipython",
    "version": 3
   },
   "file_extension": ".py",
   "mimetype": "text/x-python",
   "name": "python",
   "nbconvert_exporter": "python",
   "pygments_lexer": "ipython3",
   "version": "3.9.0"
  },
  "orig_nbformat": 4
 },
 "nbformat": 4,
 "nbformat_minor": 2
}
